{
 "cells": [
  {
   "cell_type": "code",
   "execution_count": 8,
   "metadata": {},
   "outputs": [],
   "source": [
    "import os\n",
    "import cv2\n",
    "import pandas as pd"
   ]
  },
  {
   "cell_type": "code",
   "execution_count": 9,
   "metadata": {},
   "outputs": [
    {
     "data": {
      "text/plain": [
       "['cloudy', 'water', 'green_area', 'desert']"
      ]
     },
     "execution_count": 9,
     "metadata": {},
     "output_type": "execute_result"
    }
   ],
   "source": [
    "DATA_BASE_DIR: str = \"./data\"\n",
    "data_folders = os.listdir(f\"{DATA_BASE_DIR}\")\n",
    "data_folders = [ fn for fn in data_folders if fn.strip()[0]!='.' ]\n",
    "data_folders"
   ]
  },
  {
   "cell_type": "code",
   "execution_count": 10,
   "metadata": {},
   "outputs": [],
   "source": [
    "data: dict = {\n",
    "    \"filepath\": list(),\n",
    "    \"filename\": list(),\n",
    "    \"target\": list(),\n",
    "}\n",
    "\n",
    "for folder_idx in range(len( data_folders)):\n",
    "    fold = data_folders[folder_idx]\n",
    "    fold_path = f\"{DATA_BASE_DIR}/{fold}\"\n",
    "    files = os.listdir(fold_path)\n",
    "    # \n",
    "    data['target'].extend( [folder_idx] * len(files) )\n",
    "    data['filepath'].extend( [ f\"{fold_path}/{f}\" for f in files ] )\n",
    "    data['filename'].extend( [ f\"{f}\" for f in files ] )"
   ]
  },
  {
   "cell_type": "code",
   "execution_count": 11,
   "metadata": {},
   "outputs": [
    {
     "data": {
      "text/html": [
       "<div>\n",
       "<style scoped>\n",
       "    .dataframe tbody tr th:only-of-type {\n",
       "        vertical-align: middle;\n",
       "    }\n",
       "\n",
       "    .dataframe tbody tr th {\n",
       "        vertical-align: top;\n",
       "    }\n",
       "\n",
       "    .dataframe thead th {\n",
       "        text-align: right;\n",
       "    }\n",
       "</style>\n",
       "<table border=\"1\" class=\"dataframe\">\n",
       "  <thead>\n",
       "    <tr style=\"text-align: right;\">\n",
       "      <th></th>\n",
       "      <th>filepath</th>\n",
       "      <th>filename</th>\n",
       "      <th>target</th>\n",
       "    </tr>\n",
       "  </thead>\n",
       "  <tbody>\n",
       "    <tr>\n",
       "      <th>0</th>\n",
       "      <td>./data/cloudy/train_17406.jpg</td>\n",
       "      <td>train_17406.jpg</td>\n",
       "      <td>0</td>\n",
       "    </tr>\n",
       "    <tr>\n",
       "      <th>1</th>\n",
       "      <td>./data/cloudy/train_23953.jpg</td>\n",
       "      <td>train_23953.jpg</td>\n",
       "      <td>0</td>\n",
       "    </tr>\n",
       "    <tr>\n",
       "      <th>2</th>\n",
       "      <td>./data/cloudy/train_34585.jpg</td>\n",
       "      <td>train_34585.jpg</td>\n",
       "      <td>0</td>\n",
       "    </tr>\n",
       "    <tr>\n",
       "      <th>3</th>\n",
       "      <td>./data/cloudy/train_16042.jpg</td>\n",
       "      <td>train_16042.jpg</td>\n",
       "      <td>0</td>\n",
       "    </tr>\n",
       "    <tr>\n",
       "      <th>4</th>\n",
       "      <td>./data/cloudy/train_18084.jpg</td>\n",
       "      <td>train_18084.jpg</td>\n",
       "      <td>0</td>\n",
       "    </tr>\n",
       "    <tr>\n",
       "      <th>...</th>\n",
       "      <td>...</td>\n",
       "      <td>...</td>\n",
       "      <td>...</td>\n",
       "    </tr>\n",
       "    <tr>\n",
       "      <th>5626</th>\n",
       "      <td>./data/desert/desert(878).jpg</td>\n",
       "      <td>desert(878).jpg</td>\n",
       "      <td>3</td>\n",
       "    </tr>\n",
       "    <tr>\n",
       "      <th>5627</th>\n",
       "      <td>./data/desert/desert(481).jpg</td>\n",
       "      <td>desert(481).jpg</td>\n",
       "      <td>3</td>\n",
       "    </tr>\n",
       "    <tr>\n",
       "      <th>5628</th>\n",
       "      <td>./data/desert/desert(194).jpg</td>\n",
       "      <td>desert(194).jpg</td>\n",
       "      <td>3</td>\n",
       "    </tr>\n",
       "    <tr>\n",
       "      <th>5629</th>\n",
       "      <td>./data/desert/desert(1076).jpg</td>\n",
       "      <td>desert(1076).jpg</td>\n",
       "      <td>3</td>\n",
       "    </tr>\n",
       "    <tr>\n",
       "      <th>5630</th>\n",
       "      <td>./data/desert/desert(897).jpg</td>\n",
       "      <td>desert(897).jpg</td>\n",
       "      <td>3</td>\n",
       "    </tr>\n",
       "  </tbody>\n",
       "</table>\n",
       "<p>5631 rows × 3 columns</p>\n",
       "</div>"
      ],
      "text/plain": [
       "                            filepath          filename  target\n",
       "0      ./data/cloudy/train_17406.jpg   train_17406.jpg       0\n",
       "1      ./data/cloudy/train_23953.jpg   train_23953.jpg       0\n",
       "2      ./data/cloudy/train_34585.jpg   train_34585.jpg       0\n",
       "3      ./data/cloudy/train_16042.jpg   train_16042.jpg       0\n",
       "4      ./data/cloudy/train_18084.jpg   train_18084.jpg       0\n",
       "...                              ...               ...     ...\n",
       "5626   ./data/desert/desert(878).jpg   desert(878).jpg       3\n",
       "5627   ./data/desert/desert(481).jpg   desert(481).jpg       3\n",
       "5628   ./data/desert/desert(194).jpg   desert(194).jpg       3\n",
       "5629  ./data/desert/desert(1076).jpg  desert(1076).jpg       3\n",
       "5630   ./data/desert/desert(897).jpg   desert(897).jpg       3\n",
       "\n",
       "[5631 rows x 3 columns]"
      ]
     },
     "execution_count": 11,
     "metadata": {},
     "output_type": "execute_result"
    }
   ],
   "source": [
    "data = pd.DataFrame(data)\n",
    "data"
   ]
  },
  {
   "cell_type": "code",
   "execution_count": 12,
   "metadata": {},
   "outputs": [],
   "source": [
    "data = data.sample(frac=1, random_state=18).reset_index(drop=True)\n",
    "data.to_csv(\"data.csv\", index=False)"
   ]
  }
 ],
 "metadata": {
  "kernelspec": {
   "display_name": "envs",
   "language": "python",
   "name": "python3"
  },
  "language_info": {
   "codemirror_mode": {
    "name": "ipython",
    "version": 3
   },
   "file_extension": ".py",
   "mimetype": "text/x-python",
   "name": "python",
   "nbconvert_exporter": "python",
   "pygments_lexer": "ipython3",
   "version": "3.10.7"
  }
 },
 "nbformat": 4,
 "nbformat_minor": 2
}
