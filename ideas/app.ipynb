{
 "cells": [
  {
   "cell_type": "code",
   "execution_count": 23,
   "metadata": {},
   "outputs": [],
   "source": [
    "import cv2\n",
    "import numpy as np\n",
    "import pandas as pd\n",
    "import seaborn as sns\n",
    "import matplotlib.pyplot as plt\n",
    "# \n",
    "from sklearn.model_selection import train_test_split\n",
    "from sklearn.metrics import accuracy_score, classification_report, confusion_matrix\n",
    "# \n",
    "import keras\n",
    "from keras.models import Model\n",
    "from keras.regularizers import l2\n",
    "from keras.activations import relu\n",
    "from keras.layers import LSTM, Bidirectional, BatchNormalization, Dropout, LeakyReLU, Dense, Input, Concatenate, Activation, LeakyReLU"
   ]
  },
  {
   "cell_type": "markdown",
   "metadata": {},
   "source": [
    "## Utils"
   ]
  },
  {
   "cell_type": "code",
   "execution_count": 24,
   "metadata": {},
   "outputs": [],
   "source": [
    "def show_img(image, title=\"\"):\n",
    "    plt.figure(figsize=(4, 4))\n",
    "    plt.imshow(image)\n",
    "    plt.title(f\"{title}\")\n",
    "    plt.show()\n",
    "    \n",
    "def apply_kernel(image: np.array, kernel: np.array):\n",
    "    # edges = cv2.filter2D(src=image, cv2.CV_64F, kernel=kernel)\n",
    "    edges = cv2.filter2D(src=image, ddepth=-1, kernel=kernel)\n",
    "    img_edges = np.uint8(np.absolute(edges))  # make to unsigned 8 bit int\n",
    "    return img_edges"
   ]
  },
  {
   "cell_type": "markdown",
   "metadata": {},
   "source": [
    "## Load Data"
   ]
  },
  {
   "cell_type": "code",
   "execution_count": 25,
   "metadata": {},
   "outputs": [
    {
     "data": {
      "text/html": [
       "<div>\n",
       "<style scoped>\n",
       "    .dataframe tbody tr th:only-of-type {\n",
       "        vertical-align: middle;\n",
       "    }\n",
       "\n",
       "    .dataframe tbody tr th {\n",
       "        vertical-align: top;\n",
       "    }\n",
       "\n",
       "    .dataframe thead th {\n",
       "        text-align: right;\n",
       "    }\n",
       "</style>\n",
       "<table border=\"1\" class=\"dataframe\">\n",
       "  <thead>\n",
       "    <tr style=\"text-align: right;\">\n",
       "      <th></th>\n",
       "      <th>filepath</th>\n",
       "      <th>filename</th>\n",
       "      <th>target</th>\n",
       "      <th>class</th>\n",
       "    </tr>\n",
       "  </thead>\n",
       "  <tbody>\n",
       "    <tr>\n",
       "      <th>0</th>\n",
       "      <td>./data/desert/desert(1017).jpg</td>\n",
       "      <td>desert(1017).jpg</td>\n",
       "      <td>3</td>\n",
       "      <td>desert</td>\n",
       "    </tr>\n",
       "    <tr>\n",
       "      <th>1</th>\n",
       "      <td>./data/green_area/Forest_610.jpg</td>\n",
       "      <td>Forest_610.jpg</td>\n",
       "      <td>2</td>\n",
       "      <td>green_area</td>\n",
       "    </tr>\n",
       "    <tr>\n",
       "      <th>2</th>\n",
       "      <td>./data/desert/desert(1087).jpg</td>\n",
       "      <td>desert(1087).jpg</td>\n",
       "      <td>3</td>\n",
       "      <td>desert</td>\n",
       "    </tr>\n",
       "    <tr>\n",
       "      <th>3</th>\n",
       "      <td>./data/cloudy/train_2904.jpg</td>\n",
       "      <td>train_2904.jpg</td>\n",
       "      <td>0</td>\n",
       "      <td>cloudy</td>\n",
       "    </tr>\n",
       "    <tr>\n",
       "      <th>4</th>\n",
       "      <td>./data/cloudy/train_6891.jpg</td>\n",
       "      <td>train_6891.jpg</td>\n",
       "      <td>0</td>\n",
       "      <td>cloudy</td>\n",
       "    </tr>\n",
       "  </tbody>\n",
       "</table>\n",
       "</div>"
      ],
      "text/plain": [
       "                           filepath          filename  target       class\n",
       "0    ./data/desert/desert(1017).jpg  desert(1017).jpg       3      desert\n",
       "1  ./data/green_area/Forest_610.jpg    Forest_610.jpg       2  green_area\n",
       "2    ./data/desert/desert(1087).jpg  desert(1087).jpg       3      desert\n",
       "3      ./data/cloudy/train_2904.jpg    train_2904.jpg       0      cloudy\n",
       "4      ./data/cloudy/train_6891.jpg    train_6891.jpg       0      cloudy"
      ]
     },
     "execution_count": 25,
     "metadata": {},
     "output_type": "execute_result"
    }
   ],
   "source": [
    "datapath = \"./data.csv\"\n",
    "df = pd.read_csv(datapath)\n",
    "df.head()"
   ]
  },
  {
   "cell_type": "code",
   "execution_count": 26,
   "metadata": {},
   "outputs": [
    {
     "data": {
      "image/png": "[encoded data removed]",
      "text/plain": [
       "<Figure size 400x200 with 1 Axes>"
      ]
     },
     "metadata": {},
     "output_type": "display_data"
    }
   ],
   "source": [
    "plt.figure(figsize=(4, 2))\n",
    "sns.countplot(data=df, x=\"target\", palette=\"viridis\", hue='class')\n",
    "plt.title(\"Class Distribution\")\n",
    "plt.grid(True)\n",
    "plt.legend()\n",
    "plt.show()"
   ]
  },
  {
   "cell_type": "code",
   "execution_count": 27,
   "metadata": {},
   "outputs": [],
   "source": [
    "data = df['filepath'].values\n",
    "images: list = list()\n",
    "\n",
    "for ip in data:\n",
    "    image = cv2.imread(ip, 0)\n",
    "    dims = (200, 200)\n",
    "    image = cv2.resize(image, dims, interpolation=cv2.INTER_AREA)\n",
    "    images.append(image)\n",
    "\n",
    "# show_img(images[0], \"Resized Image\")"
   ]
  },
  {
   "cell_type": "markdown",
   "metadata": {},
   "source": [
    "## Feature Extraction"
   ]
  },
  {
   "cell_type": "markdown",
   "metadata": {},
   "source": [
    "#### Gabor Filter"
   ]
  },
  {
   "cell_type": "code",
   "execution_count": 28,
   "metadata": {},
   "outputs": [],
   "source": [
    "# ksize = 11\n",
    "# sigma = 4.0\n",
    "# theta = np.pi/4\n",
    "# lambd = 10.0\n",
    "# gamma = 0.5\n",
    "# psi = 0\n",
    "\n",
    "# gabor_kernel = cv2.getGaborKernel( (ksize, ksize), sigma, theta, lambd, gamma, psi, ktype=cv2.CV_32F )\n",
    "# plt.imshow(gabor_kernel)\n",
    "# plt.show()"
   ]
  },
  {
   "cell_type": "code",
   "execution_count": 29,
   "metadata": {},
   "outputs": [],
   "source": [
    "# f_image = cv2.filter2D(src=image, ddepth=-1, kernel=gabor_kernel )\n",
    "# f_image[: 6, : 6]"
   ]
  },
  {
   "cell_type": "markdown",
   "metadata": {},
   "source": [
    "#### laplacian_kernel"
   ]
  },
  {
   "cell_type": "code",
   "execution_count": 30,
   "metadata": {},
   "outputs": [],
   "source": [
    "filter_imgs : list = list()\n",
    "laplacian_kernel = np.array([[0, 1, 0], [1, -4, 1], [0, 1, 0]])\n",
    "gs_dims = (5, 5) # Gaussian smoothing\n",
    "# \n",
    "for image in images:\n",
    "    # image = cv2.GaussianBlur(image, gs_dims, 0)\n",
    "    lk_img = apply_kernel(image, laplacian_kernel)\n",
    "    filter_imgs.append(lk_img)\n",
    "filter_imgs = np.array(filter_imgs)"
   ]
  },
  {
   "cell_type": "markdown",
   "metadata": {},
   "source": [
    "## Data Split And Normalisation"
   ]
  },
  {
   "cell_type": "code",
   "execution_count": 31,
   "metadata": {},
   "outputs": [],
   "source": [
    "filter_imgs = filter_imgs / 255.0"
   ]
  },
  {
   "cell_type": "code",
   "execution_count": 32,
   "metadata": {},
   "outputs": [
    {
     "data": {
      "text/plain": [
       "((4504, 200, 200), (1127, 200, 200), (4504,), (1127,))"
      ]
     },
     "execution_count": 32,
     "metadata": {},
     "output_type": "execute_result"
    }
   ],
   "source": [
    "x_train, x_test, y_train, y_test  = train_test_split(filter_imgs, df['target'], test_size=0.2, random_state=18 ) \n",
    "x_train.shape, x_test.shape, y_train.shape, y_test.shape"
   ]
  },
  {
   "cell_type": "markdown",
   "metadata": {},
   "source": [
    "## Train"
   ]
  },
  {
   "cell_type": "markdown",
   "metadata": {},
   "source": [
    "#### LSTM"
   ]
  },
  {
   "cell_type": "code",
   "execution_count": 33,
   "metadata": {},
   "outputs": [
    {
     "data": {
      "text/plain": [
       "(4504, 4)"
      ]
     },
     "execution_count": 33,
     "metadata": {},
     "output_type": "execute_result"
    }
   ],
   "source": [
    "y_train = keras.utils.to_categorical(y_train, num_classes=4)\n",
    "y_train.shape"
   ]
  },
  {
   "cell_type": "code",
   "execution_count": 34,
   "metadata": {},
   "outputs": [
    {
     "data": {
      "text/plain": [
       "((4504, 200, 200), (4504, 4))"
      ]
     },
     "execution_count": 34,
     "metadata": {},
     "output_type": "execute_result"
    }
   ],
   "source": [
    "x_train.shape, y_train.shape"
   ]
  },
  {
   "cell_type": "code",
   "execution_count": 35,
   "metadata": {},
   "outputs": [
    {
     "name": "stdout",
     "output_type": "stream",
     "text": [
      "Model: \"model_1\"\n",
      "_________________________________________________________________\n",
      " Layer (type)                Output Shape              Param #   \n",
      "=================================================================\n",
      " first lstm input layer (In  [(None, 200, 200)]        0         \n",
      " putLayer)                                                       \n",
      "                                                                 \n",
      " lstm_3 (LSTM)               (None, 200, 64)           67840     \n",
      "                                                                 \n",
      " lstm_4 (LSTM)               (None, 200, 32)           12416     \n",
      "                                                                 \n",
      " lstm_5 (LSTM)               (None, 16)                3136      \n",
      "                                                                 \n",
      " batch_normalization_1 (Bat  (None, 16)                64        \n",
      " chNormalization)                                                \n",
      "                                                                 \n",
      " dropout_1 (Dropout)         (None, 16)                0         \n",
      "                                                                 \n",
      " dense_2 (Dense)             (None, 64)                1088      \n",
      "                                                                 \n",
      " dense_3 (Dense)             (None, 4)                 260       \n",
      "                                                                 \n",
      "=================================================================\n",
      "Total params: 84804 (331.27 KB)\n",
      "Trainable params: 84772 (331.14 KB)\n",
      "Non-trainable params: 32 (128.00 Byte)\n",
      "_________________________________________________________________\n"
     ]
    }
   ],
   "source": [
    "BATCH_SIZE = 16\n",
    "DROPOUT_RATE = 0.4\n",
    "LEARNING_RATE: int = 0.1e-3\n",
    "INPUT_SHAPE = filter_imgs.shape[1:]\n",
    "NUM_CLASSES = y_train.shape[-1]\n",
    "\n",
    "#\n",
    "input1 = Input(shape=(INPUT_SHAPE), name=\"first lstm input layer\")\n",
    "x1 = LSTM(64, return_sequences=True )(input1)\n",
    "x1 = LSTM(32, return_sequences=True )(x1)\n",
    "x1 = LSTM(16)(x1)\n",
    "# \n",
    "x1 = BatchNormalization()(x1)\n",
    "x1 = Dropout(DROPOUT_RATE)(x1)\n",
    "x1 = Dense(64, activation='ReLU', activity_regularizer=l2(LEARNING_RATE))(x1)\n",
    "# \n",
    "output = Dense(NUM_CLASSES, activation=\"softmax\")(x1)\n",
    "# \n",
    "model = Model(inputs=input1, outputs=output)\n",
    "model.compile(optimizer=\"adam\", loss=\"categorical_crossentropy\", metrics=[\"accuracy\"] )\n",
    "\n",
    "# keras.utils.plot_model(model, show_layer_names=True, show_shapes=True, show_layer_activations=True, show_trainable=True )\n",
    "model.summary()"
   ]
  },
  {
   "cell_type": "code",
   "execution_count": 36,
   "metadata": {},
   "outputs": [
    {
     "data": {
      "text/plain": [
       "((1127, 200, 200), (1127, 4))"
      ]
     },
     "execution_count": 36,
     "metadata": {},
     "output_type": "execute_result"
    }
   ],
   "source": [
    "y_eval = keras.utils.to_categorical(y_test, NUM_CLASSES)\n",
    "x_test.shape, y_eval.shape"
   ]
  },
  {
   "cell_type": "code",
   "execution_count": 37,
   "metadata": {},
   "outputs": [
    {
     "data": {
      "text/plain": [
       "((4504, 200, 200), (4504, 4))"
      ]
     },
     "execution_count": 37,
     "metadata": {},
     "output_type": "execute_result"
    }
   ],
   "source": [
    "x_train.shape, y_train.shape"
   ]
  },
  {
   "cell_type": "code",
   "execution_count": 38,
   "metadata": {},
   "outputs": [
    {
     "name": "stdout",
     "output_type": "stream",
     "text": [
      "Epoch 1/20\n",
      "282/282 [==============================] - 30s 99ms/step - loss: 0.6361 - accuracy: 0.7376 - val_loss: 0.4832 - val_accuracy: 0.8199\n",
      "Epoch 2/20\n",
      "282/282 [==============================] - 35s 123ms/step - loss: 0.3789 - accuracy: 0.8524 - val_loss: 0.5438 - val_accuracy: 0.7303\n",
      "Epoch 3/20\n",
      "282/282 [==============================] - 28s 98ms/step - loss: 0.3076 - accuracy: 0.9019 - val_loss: 0.7487 - val_accuracy: 0.6770\n",
      "Epoch 4/20\n",
      "282/282 [==============================] - 28s 99ms/step - loss: 0.3016 - accuracy: 0.8970 - val_loss: 0.3351 - val_accuracy: 0.8864\n",
      "Epoch 5/20\n",
      "282/282 [==============================] - 30s 107ms/step - loss: 0.2619 - accuracy: 0.9127 - val_loss: 0.2969 - val_accuracy: 0.8926\n",
      "Epoch 6/20\n",
      "282/282 [==============================] - 27s 97ms/step - loss: 0.2528 - accuracy: 0.9156 - val_loss: 0.3221 - val_accuracy: 0.9077\n",
      "Epoch 7/20\n",
      "282/282 [==============================] - 27s 97ms/step - loss: 0.2235 - accuracy: 0.9272 - val_loss: 0.4879 - val_accuracy: 0.8509\n",
      "Epoch 8/20\n",
      "282/282 [==============================] - 27s 97ms/step - loss: 0.2306 - accuracy: 0.9287 - val_loss: 0.1220 - val_accuracy: 0.9645\n",
      "Epoch 9/20\n",
      "282/282 [==============================] - 27s 95ms/step - loss: 0.2140 - accuracy: 0.9303 - val_loss: 7.6931 - val_accuracy: 0.2618\n",
      "Epoch 10/20\n",
      "282/282 [==============================] - 27s 95ms/step - loss: 0.2257 - accuracy: 0.9241 - val_loss: 0.9465 - val_accuracy: 0.6477\n",
      "Epoch 11/20\n",
      "282/282 [==============================] - 33s 116ms/step - loss: 0.1799 - accuracy: 0.9409 - val_loss: 2.6047 - val_accuracy: 0.6406\n",
      "Epoch 12/20\n",
      "282/282 [==============================] - 31s 110ms/step - loss: 0.1707 - accuracy: 0.9438 - val_loss: 0.2070 - val_accuracy: 0.9228\n",
      "Epoch 13/20\n",
      "282/282 [==============================] - 26s 93ms/step - loss: 0.1793 - accuracy: 0.9398 - val_loss: 0.8476 - val_accuracy: 0.7143\n",
      "Epoch 14/20\n",
      "282/282 [==============================] - 53s 189ms/step - loss: 0.1885 - accuracy: 0.9389 - val_loss: 0.2324 - val_accuracy: 0.9246\n",
      "Epoch 15/20\n",
      "282/282 [==============================] - 104s 369ms/step - loss: 0.1443 - accuracy: 0.9569 - val_loss: 0.8973 - val_accuracy: 0.7178\n",
      "Epoch 16/20\n",
      "282/282 [==============================] - 109s 386ms/step - loss: 0.1579 - accuracy: 0.9532 - val_loss: 0.1405 - val_accuracy: 0.9530\n",
      "Epoch 17/20\n",
      "282/282 [==============================] - 108s 384ms/step - loss: 0.1620 - accuracy: 0.9467 - val_loss: 1.0174 - val_accuracy: 0.7205\n",
      "Epoch 18/20\n",
      "282/282 [==============================] - 123s 436ms/step - loss: 0.1340 - accuracy: 0.9589 - val_loss: 0.1270 - val_accuracy: 0.9681\n",
      "Epoch 19/20\n",
      "282/282 [==============================] - 141s 499ms/step - loss: 0.1301 - accuracy: 0.9571 - val_loss: 0.3357 - val_accuracy: 0.8589\n",
      "Epoch 20/20\n",
      "282/282 [==============================] - 132s 468ms/step - loss: 0.1299 - accuracy: 0.9589 - val_loss: 0.7124 - val_accuracy: 0.7134\n"
     ]
    }
   ],
   "source": [
    "EPOCHS = 20\n",
    "model_history = model.fit(\n",
    "    x_train, y_train,\n",
    "    batch_size=BATCH_SIZE, \n",
    "    validation_split=0.2,\n",
    "    epochs=EPOCHS, verbose=1\n",
    ")"
   ]
  },
  {
   "cell_type": "markdown",
   "metadata": {},
   "source": [
    "#### Save Model To File"
   ]
  },
  {
   "cell_type": "code",
   "execution_count": 39,
   "metadata": {},
   "outputs": [],
   "source": [
    "# model.save(\"./models/laplacian_model.keras\")"
   ]
  },
  {
   "cell_type": "markdown",
   "metadata": {},
   "source": [
    "## Evaluate"
   ]
  },
  {
   "cell_type": "code",
   "execution_count": 40,
   "metadata": {},
   "outputs": [
    {
     "data": {
      "image/png": "[encoded data removed]",
      "text/plain": [
       "<Figure size 600x400 with 1 Axes>"
      ]
     },
     "metadata": {},
     "output_type": "display_data"
    }
   ],
   "source": [
    "s = model_history.history\n",
    "\n",
    "plt.figure(figsize=(6, 4))\n",
    "plt.plot(s['loss'], label=\"Loss\", color=\"red\")\n",
    "plt.plot(s['val_loss'], label=\"Val Loss\", color=\"purple\" )\n",
    "plt.plot(s['accuracy'], label=\"Accuracy\", color=\"green\" )\n",
    "plt.plot(s['val_accuracy'], label=\"Val Accuracy\", color=\"blue\" )\n",
    "plt.title(\"Model Training Info\")\n",
    "plt.grid(True)\n",
    "# y = [0, 1]\n",
    "# plt.yticks(range(min(y), max(y)+1, 1))\n",
    "plt.legend()\n",
    "plt.show()"
   ]
  },
  {
   "cell_type": "code",
   "execution_count": 41,
   "metadata": {},
   "outputs": [
    {
     "name": "stdout",
     "output_type": "stream",
     "text": [
      "36/36 [==============================] - 9s 150ms/step\n"
     ]
    },
    {
     "data": {
      "text/plain": [
       "array([3, 3, 2, ..., 2, 2, 0])"
      ]
     },
     "execution_count": 41,
     "metadata": {},
     "output_type": "execute_result"
    }
   ],
   "source": [
    "y_preds = model.predict(x_test)\n",
    "y_preds = np.argmax(y_preds, axis=1)\n",
    "y_preds"
   ]
  },
  {
   "cell_type": "code",
   "execution_count": 42,
   "metadata": {},
   "outputs": [
    {
     "data": {
      "text/plain": [
       "0.7133984028393966"
      ]
     },
     "execution_count": 42,
     "metadata": {},
     "output_type": "execute_result"
    }
   ],
   "source": [
    "accuracy_score(y_test, y_preds)"
   ]
  },
  {
   "cell_type": "code",
   "execution_count": 43,
   "metadata": {},
   "outputs": [
    {
     "name": "stdout",
     "output_type": "stream",
     "text": [
      "              precision    recall  f1-score   support\n",
      "\n",
      "           0       0.98      0.84      0.91       290\n",
      "           1       1.00      0.19      0.32       332\n",
      "           2       0.52      0.98      0.68       294\n",
      "           3       0.78      1.00      0.88       211\n",
      "\n",
      "    accuracy                           0.71      1127\n",
      "   macro avg       0.82      0.75      0.70      1127\n",
      "weighted avg       0.83      0.71      0.67      1127\n",
      "\n"
     ]
    }
   ],
   "source": [
    "print(classification_report(y_test, y_preds, zero_division=1))"
   ]
  },
  {
   "cell_type": "code",
   "execution_count": 44,
   "metadata": {},
   "outputs": [
    {
     "data": {
      "image/png": "[encoded data removed]",
      "text/plain": [
       "<Figure size 500x300 with 2 Axes>"
      ]
     },
     "metadata": {},
     "output_type": "display_data"
    }
   ],
   "source": [
    "plt.figure(figsize=(5, 3))\n",
    "sns.heatmap(confusion_matrix(y_test, y_preds), annot=True)\n",
    "plt.show()"
   ]
  },
  {
   "cell_type": "code",
   "execution_count": null,
   "metadata": {},
   "outputs": [],
   "source": []
  },
  {
   "cell_type": "code",
   "execution_count": null,
   "metadata": {},
   "outputs": [],
   "source": []
  }
 ],
 "metadata": {
  "kernelspec": {
   "display_name": "envs",
   "language": "python",
   "name": "python3"
  },
  "language_info": {
   "codemirror_mode": {
    "name": "ipython",
    "version": 3
   },
   "file_extension": ".py",
   "mimetype": "text/x-python",
   "name": "python",
   "nbconvert_exporter": "python",
   "pygments_lexer": "ipython3",
   "version": "3.10.7"
  }
 },
 "nbformat": 4,
 "nbformat_minor": 2
}
