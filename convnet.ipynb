{
 "cells": [
  {
   "cell_type": "code",
   "execution_count": 30,
   "metadata": {},
   "outputs": [],
   "source": [
    "import cv2\n",
    "import numpy as np\n",
    "import pandas as pd\n",
    "import seaborn as sns\n",
    "import matplotlib.pyplot as plt\n",
    "# \n",
    "from sklearn.model_selection import train_test_split\n",
    "from sklearn.metrics import accuracy_score, classification_report, confusion_matrix\n",
    "# \n",
    "import keras\n",
    "from keras.models import Model\n",
    "from keras.regularizers import l2\n",
    "from keras.activations import relu\n",
    "from keras.layers import LSTM, Bidirectional, BatchNormalization, Dropout, LeakyReLU, Dense, Input, Concatenate, Activation, LeakyReLU, Convolution2D"
   ]
  },
  {
   "cell_type": "markdown",
   "metadata": {},
   "source": [
    "## Utils"
   ]
  },
  {
   "cell_type": "code",
   "execution_count": 2,
   "metadata": {},
   "outputs": [],
   "source": [
    "def show_img(image, title=\"\"):\n",
    "    plt.figure(figsize=(4, 4))\n",
    "    plt.imshow(image)\n",
    "    plt.title(f\"{title}\")\n",
    "    plt.show()\n",
    "    \n",
    "def apply_kernel(image: np.array, kernel: np.array):\n",
    "    # edges = cv2.filter2D(src=image, cv2.CV_64F, kernel=kernel)\n",
    "    edges = cv2.filter2D(src=image, ddepth=-1, kernel=kernel)\n",
    "    img_edges = np.uint8(np.absolute(edges))  # make to unsigned 8 bit int\n",
    "    return img_edges"
   ]
  },
  {
   "cell_type": "markdown",
   "metadata": {},
   "source": [
    "## Load Data"
   ]
  },
  {
   "cell_type": "code",
   "execution_count": 3,
   "metadata": {},
   "outputs": [
    {
     "data": {
      "text/html": [
       "<div>\n",
       "<style scoped>\n",
       "    .dataframe tbody tr th:only-of-type {\n",
       "        vertical-align: middle;\n",
       "    }\n",
       "\n",
       "    .dataframe tbody tr th {\n",
       "        vertical-align: top;\n",
       "    }\n",
       "\n",
       "    .dataframe thead th {\n",
       "        text-align: right;\n",
       "    }\n",
       "</style>\n",
       "<table border=\"1\" class=\"dataframe\">\n",
       "  <thead>\n",
       "    <tr style=\"text-align: right;\">\n",
       "      <th></th>\n",
       "      <th>filepath</th>\n",
       "      <th>filename</th>\n",
       "      <th>target</th>\n",
       "      <th>class</th>\n",
       "    </tr>\n",
       "  </thead>\n",
       "  <tbody>\n",
       "    <tr>\n",
       "      <th>0</th>\n",
       "      <td>./data/desert/desert(1017).jpg</td>\n",
       "      <td>desert(1017).jpg</td>\n",
       "      <td>3</td>\n",
       "      <td>desert</td>\n",
       "    </tr>\n",
       "    <tr>\n",
       "      <th>1</th>\n",
       "      <td>./data/green_area/Forest_610.jpg</td>\n",
       "      <td>Forest_610.jpg</td>\n",
       "      <td>2</td>\n",
       "      <td>green_area</td>\n",
       "    </tr>\n",
       "    <tr>\n",
       "      <th>2</th>\n",
       "      <td>./data/desert/desert(1087).jpg</td>\n",
       "      <td>desert(1087).jpg</td>\n",
       "      <td>3</td>\n",
       "      <td>desert</td>\n",
       "    </tr>\n",
       "    <tr>\n",
       "      <th>3</th>\n",
       "      <td>./data/cloudy/train_2904.jpg</td>\n",
       "      <td>train_2904.jpg</td>\n",
       "      <td>0</td>\n",
       "      <td>cloudy</td>\n",
       "    </tr>\n",
       "    <tr>\n",
       "      <th>4</th>\n",
       "      <td>./data/cloudy/train_6891.jpg</td>\n",
       "      <td>train_6891.jpg</td>\n",
       "      <td>0</td>\n",
       "      <td>cloudy</td>\n",
       "    </tr>\n",
       "  </tbody>\n",
       "</table>\n",
       "</div>"
      ],
      "text/plain": [
       "                           filepath          filename  target       class\n",
       "0    ./data/desert/desert(1017).jpg  desert(1017).jpg       3      desert\n",
       "1  ./data/green_area/Forest_610.jpg    Forest_610.jpg       2  green_area\n",
       "2    ./data/desert/desert(1087).jpg  desert(1087).jpg       3      desert\n",
       "3      ./data/cloudy/train_2904.jpg    train_2904.jpg       0      cloudy\n",
       "4      ./data/cloudy/train_6891.jpg    train_6891.jpg       0      cloudy"
      ]
     },
     "execution_count": 3,
     "metadata": {},
     "output_type": "execute_result"
    }
   ],
   "source": [
    "datapath = \"./data.csv\"\n",
    "df = pd.read_csv(datapath)\n",
    "df.head()"
   ]
  },
  {
   "cell_type": "code",
   "execution_count": 4,
   "metadata": {},
   "outputs": [
    {
     "data": {
      "image/png": "[encoded data removed]",
      "text/plain": [
       "<Figure size 400x200 with 1 Axes>"
      ]
     },
     "metadata": {},
     "output_type": "display_data"
    }
   ],
   "source": [
    "plt.figure(figsize=(4, 2))\n",
    "sns.countplot(data=df, x=\"target\", palette=\"viridis\", hue='class')\n",
    "plt.title(\"Class Distribution\")\n",
    "plt.grid(True)\n",
    "plt.legend()\n",
    "plt.show()"
   ]
  },
  {
   "cell_type": "code",
   "execution_count": 5,
   "metadata": {},
   "outputs": [],
   "source": [
    "data = df['filepath'].values\n",
    "images: list = list()\n",
    "\n",
    "for ip in data:\n",
    "    image = cv2.imread(ip, 0)\n",
    "    dims = (200, 200)\n",
    "    image = cv2.resize(image, dims, interpolation=cv2.INTER_AREA)\n",
    "    images.append(image)"
   ]
  },
  {
   "cell_type": "markdown",
   "metadata": {},
   "source": [
    "## Feature Extraction"
   ]
  },
  {
   "cell_type": "markdown",
   "metadata": {},
   "source": [
    "#### laplacian_kernel"
   ]
  },
  {
   "cell_type": "code",
   "execution_count": 6,
   "metadata": {},
   "outputs": [],
   "source": [
    "filter_imgs : list = list()\n",
    "laplacian_kernel = np.array([[0, 1, 0], [1, -4, 1], [0, 1, 0]])\n",
    "gs_dims = (5, 5) # Gaussian smoothing\n",
    "# \n",
    "for image in images:\n",
    "    # image = cv2.GaussianBlur(image, gs_dims, 0)\n",
    "    lk_img = apply_kernel(image, laplacian_kernel)\n",
    "    filter_imgs.append(lk_img)\n",
    "filter_imgs = np.array(filter_imgs)"
   ]
  },
  {
   "cell_type": "markdown",
   "metadata": {},
   "source": [
    "## Data Split And Normalisation"
   ]
  },
  {
   "cell_type": "code",
   "execution_count": 7,
   "metadata": {},
   "outputs": [],
   "source": [
    "filter_imgs = filter_imgs / 255.0"
   ]
  },
  {
   "cell_type": "code",
   "execution_count": 8,
   "metadata": {},
   "outputs": [
    {
     "data": {
      "text/plain": [
       "((4504, 200, 200), (1127, 200, 200), (4504,), (1127,))"
      ]
     },
     "execution_count": 8,
     "metadata": {},
     "output_type": "execute_result"
    }
   ],
   "source": [
    "x_train, x_test, y_train, y_test  = train_test_split(filter_imgs, df['target'], test_size=0.2, random_state=18 ) \n",
    "x_train.shape, x_test.shape, y_train.shape, y_test.shape"
   ]
  },
  {
   "cell_type": "markdown",
   "metadata": {},
   "source": [
    "## Train"
   ]
  },
  {
   "cell_type": "markdown",
   "metadata": {},
   "source": [
    "#### conv net"
   ]
  },
  {
   "cell_type": "code",
   "execution_count": 9,
   "metadata": {},
   "outputs": [
    {
     "data": {
      "text/plain": [
       "(4504, 4)"
      ]
     },
     "execution_count": 9,
     "metadata": {},
     "output_type": "execute_result"
    }
   ],
   "source": [
    "y_train = keras.utils.to_categorical(y_train, num_classes=4)\n",
    "y_train.shape"
   ]
  },
  {
   "cell_type": "code",
   "execution_count": 10,
   "metadata": {},
   "outputs": [
    {
     "data": {
      "text/plain": [
       "((4504, 200, 200), (4504, 4))"
      ]
     },
     "execution_count": 10,
     "metadata": {},
     "output_type": "execute_result"
    }
   ],
   "source": [
    "x_train.shape, y_train.shape"
   ]
  },
  {
   "cell_type": "code",
   "execution_count": 14,
   "metadata": {},
   "outputs": [
    {
     "name": "stdout",
     "output_type": "stream",
     "text": [
      "Model: \"model_1\"\n",
      "_________________________________________________________________\n",
      " Layer (type)                Output Shape              Param #   \n",
      "=================================================================\n",
      " first lstm input layer (In  [(None, 200, 200, 1)]     0         \n",
      " putLayer)                                                       \n",
      "                                                                 \n",
      " conv2d_3 (Conv2D)           (None, 198, 198, 32)      320       \n",
      "                                                                 \n",
      " max_pooling2d_1 (MaxPoolin  (None, 99, 99, 32)        0         \n",
      " g2D)                                                            \n",
      "                                                                 \n",
      " flatten_1 (Flatten)         (None, 313632)            0         \n",
      "                                                                 \n",
      " dense_2 (Dense)             (None, 100)               31363300  \n",
      "                                                                 \n",
      " dropout_1 (Dropout)         (None, 100)               0         \n",
      "                                                                 \n",
      " dense_3 (Dense)             (None, 4)                 404       \n",
      "                                                                 \n",
      "=================================================================\n",
      "Total params: 31364024 (119.64 MB)\n",
      "Trainable params: 31364024 (119.64 MB)\n",
      "Non-trainable params: 0 (0.00 Byte)\n",
      "_________________________________________________________________\n"
     ]
    }
   ],
   "source": [
    "BATCH_SIZE = 16\n",
    "DROPOUT_RATE = 0.4\n",
    "LEARNING_RATE: int = 0.1e-3\n",
    "INPUT_SHAPE = filter_imgs.shape[1:]\n",
    "NUM_CLASSES = y_train.shape[-1]\n",
    "\n",
    "#\n",
    "input = Input(shape=(200, 200, 1), name=\"first lstm input layer\")\n",
    "x = Convolution2D(32, 3, data_format='channels_last', activation=\"relu\", input_shape=(200, 200, 1))(input)\n",
    "x = keras.layers.MaxPool2D(pool_size=(2,2))(x)\n",
    "x = keras.layers.Flatten()(x)\n",
    "x = Dense(100)(x)\n",
    "x = Dropout(DROPOUT_RATE)(x)\n",
    "# \n",
    "output = Dense(NUM_CLASSES, activation=\"softmax\")(x)\n",
    "# \n",
    "model = Model(inputs=input, outputs=output)\n",
    "model.compile(optimizer=\"adam\", loss=\"categorical_crossentropy\", metrics=[\"accuracy\"] )\n",
    "\n",
    "# keras.utils.plot_model(model, show_layer_names=True, show_shapes=True, show_layer_activations=True, show_trainable=True )\n",
    "model.summary()"
   ]
  },
  {
   "cell_type": "code",
   "execution_count": 15,
   "metadata": {},
   "outputs": [
    {
     "data": {
      "text/plain": [
       "((1127, 200, 200), (1127, 4))"
      ]
     },
     "execution_count": 15,
     "metadata": {},
     "output_type": "execute_result"
    }
   ],
   "source": [
    "y_eval = keras.utils.to_categorical(y_test, NUM_CLASSES)\n",
    "x_test.shape, y_eval.shape"
   ]
  },
  {
   "cell_type": "code",
   "execution_count": 16,
   "metadata": {},
   "outputs": [
    {
     "data": {
      "text/plain": [
       "((4504, 200, 200), (4504, 4))"
      ]
     },
     "execution_count": 16,
     "metadata": {},
     "output_type": "execute_result"
    }
   ],
   "source": [
    "x_train.shape, y_train.shape"
   ]
  },
  {
   "cell_type": "code",
   "execution_count": 17,
   "metadata": {},
   "outputs": [
    {
     "name": "stdout",
     "output_type": "stream",
     "text": [
      "Epoch 1/20\n",
      "226/226 [==============================] - 48s 209ms/step - loss: 0.6461 - accuracy: 0.7680 - val_loss: 0.3117 - val_accuracy: 0.8590\n",
      "Epoch 2/20\n",
      "226/226 [==============================] - 40s 176ms/step - loss: 0.1969 - accuracy: 0.9331 - val_loss: 0.1632 - val_accuracy: 0.9401\n",
      "Epoch 3/20\n",
      "226/226 [==============================] - 46s 202ms/step - loss: 0.0721 - accuracy: 0.9833 - val_loss: 0.2840 - val_accuracy: 0.9112\n",
      "Epoch 4/20\n",
      "226/226 [==============================] - 40s 178ms/step - loss: 0.0397 - accuracy: 0.9920 - val_loss: 0.1524 - val_accuracy: 0.9623\n",
      "Epoch 5/20\n",
      "226/226 [==============================] - 46s 201ms/step - loss: 0.0214 - accuracy: 0.9950 - val_loss: 0.1404 - val_accuracy: 0.9667\n",
      "Epoch 6/20\n",
      "226/226 [==============================] - 47s 207ms/step - loss: 0.0373 - accuracy: 0.9895 - val_loss: 0.1136 - val_accuracy: 0.9678\n",
      "Epoch 7/20\n",
      "226/226 [==============================] - 47s 207ms/step - loss: 0.0102 - accuracy: 0.9989 - val_loss: 0.1692 - val_accuracy: 0.9456\n",
      "Epoch 8/20\n",
      "226/226 [==============================] - 39s 170ms/step - loss: 0.0254 - accuracy: 0.9936 - val_loss: 0.1023 - val_accuracy: 0.9711\n",
      "Epoch 9/20\n",
      "226/226 [==============================] - 55s 241ms/step - loss: 0.0121 - accuracy: 0.9969 - val_loss: 0.0890 - val_accuracy: 0.9734\n",
      "Epoch 10/20\n",
      "226/226 [==============================] - 50s 219ms/step - loss: 0.0031 - accuracy: 0.9997 - val_loss: 0.0984 - val_accuracy: 0.9756\n",
      "Epoch 11/20\n",
      "226/226 [==============================] - 57s 253ms/step - loss: 0.0583 - accuracy: 0.9875 - val_loss: 0.4613 - val_accuracy: 0.8302\n",
      "Epoch 12/20\n",
      "226/226 [==============================] - 49s 218ms/step - loss: 0.0500 - accuracy: 0.9886 - val_loss: 0.1314 - val_accuracy: 0.9656\n",
      "Epoch 13/20\n",
      "226/226 [==============================] - 55s 242ms/step - loss: 0.0069 - accuracy: 0.9992 - val_loss: 0.1096 - val_accuracy: 0.9723\n",
      "Epoch 14/20\n",
      "226/226 [==============================] - 54s 237ms/step - loss: 0.0054 - accuracy: 0.9989 - val_loss: 0.1149 - val_accuracy: 0.9711\n",
      "Epoch 15/20\n",
      "226/226 [==============================] - 50s 217ms/step - loss: 0.0021 - accuracy: 1.0000 - val_loss: 0.1216 - val_accuracy: 0.9700\n",
      "Epoch 16/20\n",
      "226/226 [==============================] - 45s 198ms/step - loss: 0.0570 - accuracy: 0.9900 - val_loss: 0.1234 - val_accuracy: 0.9723\n",
      "Epoch 17/20\n",
      "226/226 [==============================] - 40s 176ms/step - loss: 0.0595 - accuracy: 0.9867 - val_loss: 0.1235 - val_accuracy: 0.9689\n",
      "Epoch 18/20\n",
      "226/226 [==============================] - 40s 173ms/step - loss: 0.0040 - accuracy: 1.0000 - val_loss: 0.1298 - val_accuracy: 0.9700\n",
      "Epoch 19/20\n",
      "226/226 [==============================] - 44s 195ms/step - loss: 0.0073 - accuracy: 0.9983 - val_loss: 0.1473 - val_accuracy: 0.9756\n",
      "Epoch 20/20\n",
      "226/226 [==============================] - 49s 216ms/step - loss: 0.0024 - accuracy: 0.9997 - val_loss: 0.1706 - val_accuracy: 0.9689\n"
     ]
    }
   ],
   "source": [
    "EPOCHS = 10\n",
    "model_history = model.fit(x_train, y_train, batch_size=BATCH_SIZE, \n",
    "                        #   validation_data=(x_test, y_eval), \n",
    "                          validation_split=0.2,\n",
    "                          epochs=EPOCHS, verbose=1 )"
   ]
  },
  {
   "cell_type": "markdown",
   "metadata": {},
   "source": [
    "#### Save Model To File"
   ]
  },
  {
   "cell_type": "code",
   "execution_count": 31,
   "metadata": {},
   "outputs": [],
   "source": [
    "# model.save(\"./models/laplacian_convnet.keras\")"
   ]
  },
  {
   "cell_type": "markdown",
   "metadata": {},
   "source": [
    "## Evaluate"
   ]
  },
  {
   "cell_type": "code",
   "execution_count": 19,
   "metadata": {},
   "outputs": [
    {
     "data": {
      "image/png": "[encoded data removed]",
      "text/plain": [
       "<Figure size 600x400 with 1 Axes>"
      ]
     },
     "metadata": {},
     "output_type": "display_data"
    }
   ],
   "source": [
    "s = model_history.history\n",
    "\n",
    "plt.figure(figsize=(6, 4))\n",
    "plt.plot(s['loss'], label=\"Loss\", color=\"red\")\n",
    "plt.plot(s['val_loss'], label=\"Val Loss\", color=\"purple\" )\n",
    "plt.plot(s['accuracy'], label=\"Accuracy\", color=\"green\" )\n",
    "plt.plot(s['val_accuracy'], label=\"Val Accuracy\", color=\"blue\" )\n",
    "plt.title(\"Model Training Info\")\n",
    "plt.grid(True)\n",
    "# y = [0, 1]\n",
    "# plt.yticks(range(min(y), max(y)+1, 1))\n",
    "plt.legend()\n",
    "plt.show()"
   ]
  },
  {
   "cell_type": "code",
   "execution_count": 20,
   "metadata": {},
   "outputs": [
    {
     "name": "stdout",
     "output_type": "stream",
     "text": [
      "36/36 [==============================] - 3s 66ms/step\n"
     ]
    },
    {
     "data": {
      "text/plain": [
       "array([3, 3, 2, ..., 2, 1, 0])"
      ]
     },
     "execution_count": 20,
     "metadata": {},
     "output_type": "execute_result"
    }
   ],
   "source": [
    "y_preds = model.predict(x_test)\n",
    "y_preds = np.argmax(y_preds, axis=1)\n",
    "y_preds"
   ]
  },
  {
   "cell_type": "code",
   "execution_count": 21,
   "metadata": {},
   "outputs": [
    {
     "data": {
      "text/plain": [
       "0.9804791481810116"
      ]
     },
     "execution_count": 21,
     "metadata": {},
     "output_type": "execute_result"
    }
   ],
   "source": [
    "accuracy_score(y_test, y_preds)"
   ]
  },
  {
   "cell_type": "code",
   "execution_count": 22,
   "metadata": {},
   "outputs": [
    {
     "name": "stdout",
     "output_type": "stream",
     "text": [
      "              precision    recall  f1-score   support\n",
      "\n",
      "           0       1.00      1.00      1.00       290\n",
      "           1       0.98      0.96      0.97       332\n",
      "           2       0.95      0.98      0.96       294\n",
      "           3       1.00      1.00      1.00       211\n",
      "\n",
      "    accuracy                           0.98      1127\n",
      "   macro avg       0.98      0.98      0.98      1127\n",
      "weighted avg       0.98      0.98      0.98      1127\n",
      "\n"
     ]
    }
   ],
   "source": [
    "print(classification_report(y_test, y_preds, zero_division=1))"
   ]
  },
  {
   "cell_type": "code",
   "execution_count": 23,
   "metadata": {},
   "outputs": [
    {
     "data": {
      "image/png": "[encoded data removed]",
      "text/plain": [
       "<Figure size 500x300 with 2 Axes>"
      ]
     },
     "metadata": {},
     "output_type": "display_data"
    }
   ],
   "source": [
    "plt.figure(figsize=(5, 3))\n",
    "sns.heatmap(confusion_matrix(y_test, y_preds), annot=True)\n",
    "plt.show()"
   ]
  },
  {
   "cell_type": "markdown",
   "metadata": {},
   "source": [
    "## Test With Eval Data"
   ]
  },
  {
   "cell_type": "code",
   "execution_count": 57,
   "metadata": {},
   "outputs": [
    {
     "data": {
      "text/html": [
       "<div>\n",
       "<style scoped>\n",
       "    .dataframe tbody tr th:only-of-type {\n",
       "        vertical-align: middle;\n",
       "    }\n",
       "\n",
       "    .dataframe tbody tr th {\n",
       "        vertical-align: top;\n",
       "    }\n",
       "\n",
       "    .dataframe thead th {\n",
       "        text-align: right;\n",
       "    }\n",
       "</style>\n",
       "<table border=\"1\" class=\"dataframe\">\n",
       "  <thead>\n",
       "    <tr style=\"text-align: right;\">\n",
       "      <th></th>\n",
       "      <th>filepath</th>\n",
       "      <th>filename</th>\n",
       "      <th>target</th>\n",
       "      <th>class</th>\n",
       "    </tr>\n",
       "  </thead>\n",
       "  <tbody>\n",
       "    <tr>\n",
       "      <th>0</th>\n",
       "      <td>./data/sacair_data/validation/desert/desert(65...</td>\n",
       "      <td>desert(657).jpg</td>\n",
       "      <td>3</td>\n",
       "      <td>desert</td>\n",
       "    </tr>\n",
       "    <tr>\n",
       "      <th>1</th>\n",
       "      <td>./data/sacair_data/validation/desert/desert(66...</td>\n",
       "      <td>desert(665).jpg</td>\n",
       "      <td>3</td>\n",
       "      <td>desert</td>\n",
       "    </tr>\n",
       "    <tr>\n",
       "      <th>2</th>\n",
       "      <td>./data/sacair_data/validation/desert/desert(75...</td>\n",
       "      <td>desert(75).jpg</td>\n",
       "      <td>3</td>\n",
       "      <td>desert</td>\n",
       "    </tr>\n",
       "    <tr>\n",
       "      <th>3</th>\n",
       "      <td>./data/sacair_data/validation/water/SeaLake_40...</td>\n",
       "      <td>SeaLake_403.jpg</td>\n",
       "      <td>1</td>\n",
       "      <td>water</td>\n",
       "    </tr>\n",
       "    <tr>\n",
       "      <th>4</th>\n",
       "      <td>./data/sacair_data/validation/green_area/Fores...</td>\n",
       "      <td>Forest_2867.jpg</td>\n",
       "      <td>2</td>\n",
       "      <td>green_area</td>\n",
       "    </tr>\n",
       "  </tbody>\n",
       "</table>\n",
       "</div>"
      ],
      "text/plain": [
       "                                            filepath         filename  target  \\\n",
       "0  ./data/sacair_data/validation/desert/desert(65...  desert(657).jpg       3   \n",
       "1  ./data/sacair_data/validation/desert/desert(66...  desert(665).jpg       3   \n",
       "2  ./data/sacair_data/validation/desert/desert(75...   desert(75).jpg       3   \n",
       "3  ./data/sacair_data/validation/water/SeaLake_40...  SeaLake_403.jpg       1   \n",
       "4  ./data/sacair_data/validation/green_area/Fores...  Forest_2867.jpg       2   \n",
       "\n",
       "        class  \n",
       "0      desert  \n",
       "1      desert  \n",
       "2      desert  \n",
       "3       water  \n",
       "4  green_area  "
      ]
     },
     "execution_count": 57,
     "metadata": {},
     "output_type": "execute_result"
    }
   ],
   "source": [
    "eval_path = \"./eval.csv\"\n",
    "eval = pd.read_csv(eval_path)\n",
    "eval.head()"
   ]
  },
  {
   "cell_type": "code",
   "execution_count": 58,
   "metadata": {},
   "outputs": [
    {
     "data": {
      "image/png": "[encoded data removed]",
      "text/plain": [
       "<Figure size 500x300 with 1 Axes>"
      ]
     },
     "metadata": {},
     "output_type": "display_data"
    }
   ],
   "source": [
    "plt.figure(figsize=(5, 3))\n",
    "sns.countplot(data=eval, x=\"target\", palette=\"viridis\", hue='class')\n",
    "plt.title(\"Class Distribution Eval Data\")\n",
    "plt.grid(True)\n",
    "plt.legend()\n",
    "plt.show()"
   ]
  },
  {
   "cell_type": "markdown",
   "metadata": {},
   "source": [
    "### Preprocess the image data"
   ]
  },
  {
   "cell_type": "code",
   "execution_count": 71,
   "metadata": {},
   "outputs": [],
   "source": [
    "images_paths = eval['filepath'].values\n",
    "y_eval = eval['target'].values\n",
    "\n",
    "eval_images: list = list()\n",
    "\n",
    "for ip in images_paths:\n",
    "    image = cv2.imread(ip, 0)\n",
    "    dims = (200, 200)\n",
    "    image = cv2.resize(image, dims, interpolation=cv2.INTER_AREA)\n",
    "    eval_images.append(image)"
   ]
  },
  {
   "cell_type": "code",
   "execution_count": 72,
   "metadata": {},
   "outputs": [
    {
     "data": {
      "text/plain": [
       "(27, 200, 200)"
      ]
     },
     "execution_count": 72,
     "metadata": {},
     "output_type": "execute_result"
    }
   ],
   "source": [
    "eval_imgs : list = list()\n",
    "laplacian_kernel = np.array([[0, 1, 0], [1, -4, 1], [0, 1, 0]])\n",
    "gs_dims = (5, 5) # Gaussian smoothing\n",
    "# \n",
    "for image in eval_images:\n",
    "    # image = cv2.GaussianBlur(image, gs_dims, 0)\n",
    "    lk_img = apply_kernel(image, laplacian_kernel)\n",
    "    eval_imgs.append(lk_img)\n",
    "eval_imgs = np.array(eval_imgs)\n",
    "eval_imgs.shape"
   ]
  },
  {
   "cell_type": "code",
   "execution_count": 73,
   "metadata": {},
   "outputs": [
    {
     "name": "stdout",
     "output_type": "stream",
     "text": [
      "1/1 [==============================] - 0s 152ms/step\n"
     ]
    },
    {
     "data": {
      "text/plain": [
       "array([3, 3, 3, 3, 3, 3, 3, 3, 3, 3, 3, 3, 3, 3, 3, 3, 3, 3, 3, 3, 3, 3,\n",
       "       3, 3, 3, 3, 3])"
      ]
     },
     "execution_count": 73,
     "metadata": {},
     "output_type": "execute_result"
    }
   ],
   "source": [
    "eval_preds = model.predict(eval_imgs)\n",
    "eval_preds = np.argmax(eval_preds, axis=1)\n",
    "eval_preds"
   ]
  },
  {
   "cell_type": "code",
   "execution_count": 74,
   "metadata": {},
   "outputs": [
    {
     "data": {
      "text/plain": [
       "0.37037037037037035"
      ]
     },
     "execution_count": 74,
     "metadata": {},
     "output_type": "execute_result"
    }
   ],
   "source": [
    "accuracy_score(y_eval, eval_preds)"
   ]
  },
  {
   "cell_type": "code",
   "execution_count": 75,
   "metadata": {},
   "outputs": [
    {
     "data": {
      "text/plain": [
       "(array([3, 3, 3, 1, 2, 3, 3, 1, 1, 1, 1, 2, 2, 2, 2, 0, 0, 1, 1, 3, 1, 3,\n",
       "        1, 3, 3, 1, 3]),\n",
       " array([3, 3, 3, 3, 3, 3, 3, 3, 3, 3, 3, 3, 3, 3, 3, 3, 3, 3, 3, 3, 3, 3,\n",
       "        3, 3, 3, 3, 3]))"
      ]
     },
     "execution_count": 75,
     "metadata": {},
     "output_type": "execute_result"
    }
   ],
   "source": [
    "y_eval, eval_preds"
   ]
  },
  {
   "cell_type": "code",
   "execution_count": 76,
   "metadata": {},
   "outputs": [
    {
     "name": "stdout",
     "output_type": "stream",
     "text": [
      "              precision    recall  f1-score   support\n",
      "\n",
      "           0       1.00      0.00      0.00         2\n",
      "           1       1.00      0.00      0.00        10\n",
      "           2       1.00      0.00      0.00         5\n",
      "           3       0.37      1.00      0.54        10\n",
      "\n",
      "    accuracy                           0.37        27\n",
      "   macro avg       0.84      0.25      0.14        27\n",
      "weighted avg       0.77      0.37      0.20        27\n",
      "\n"
     ]
    }
   ],
   "source": [
    "print(classification_report(y_eval, eval_preds, zero_division=1))"
   ]
  },
  {
   "cell_type": "code",
   "execution_count": 77,
   "metadata": {},
   "outputs": [
    {
     "data": {
      "image/png": "[encoded data removed]",
      "text/plain": [
       "<Figure size 500x300 with 2 Axes>"
      ]
     },
     "metadata": {},
     "output_type": "display_data"
    }
   ],
   "source": [
    "plt.figure(figsize=(5, 3))\n",
    "sns.heatmap(confusion_matrix(y_eval, eval_preds), annot=True)\n",
    "plt.show()"
   ]
  }
 ],
 "metadata": {
  "kernelspec": {
   "display_name": "envs",
   "language": "python",
   "name": "python3"
  },
  "language_info": {
   "codemirror_mode": {
    "name": "ipython",
    "version": 3
   },
   "file_extension": ".py",
   "mimetype": "text/x-python",
   "name": "python",
   "nbconvert_exporter": "python",
   "pygments_lexer": "ipython3",
   "version": "3.10.7"
  }
 },
 "nbformat": 4,
 "nbformat_minor": 2
}
